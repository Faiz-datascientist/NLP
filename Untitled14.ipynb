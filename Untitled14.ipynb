{
 "cells": [
  {
   "cell_type": "code",
   "execution_count": 1,
   "id": "53720038",
   "metadata": {},
   "outputs": [
    {
     "name": "stdout",
     "output_type": "stream",
     "text": [
      "Requirement already satisfied: nltk in c:\\users\\khushboo perween\\anaconda3\\lib\\site-packages (3.6.5)\n",
      "Requirement already satisfied: click in c:\\users\\khushboo perween\\anaconda3\\lib\\site-packages (from nltk) (8.0.3)\n",
      "Requirement already satisfied: joblib in c:\\users\\khushboo perween\\anaconda3\\lib\\site-packages (from nltk) (1.2.0)\n",
      "Requirement already satisfied: regex>=2021.8.3 in c:\\users\\khushboo perween\\anaconda3\\lib\\site-packages (from nltk) (2021.8.3)\n",
      "Requirement already satisfied: tqdm in c:\\users\\khushboo perween\\anaconda3\\lib\\site-packages (from nltk) (4.62.3)\n",
      "Requirement already satisfied: colorama in c:\\users\\khushboo perween\\anaconda3\\lib\\site-packages (from click->nltk) (0.4.4)\n"
     ]
    }
   ],
   "source": [
    "!pip install nltk"
   ]
  },
  {
   "cell_type": "code",
   "execution_count": 28,
   "id": "4a3131b4",
   "metadata": {},
   "outputs": [],
   "source": [
    "corpus=\"EASSy is a submarine fibre optic cable system deployed along the east and south coast of Africa to service the voice. Video and internet needs of the region, What is the main cause?\""
   ]
  },
  {
   "cell_type": "code",
   "execution_count": 19,
   "id": "c0e5d65c",
   "metadata": {},
   "outputs": [],
   "source": [
    "from nltk.tokenize import sent_tokenize"
   ]
  },
  {
   "cell_type": "code",
   "execution_count": 20,
   "id": "1e9f2239",
   "metadata": {},
   "outputs": [],
   "source": [
    "sent=sent_tokenize(corpus)"
   ]
  },
  {
   "cell_type": "code",
   "execution_count": 21,
   "id": "28cce307",
   "metadata": {},
   "outputs": [
    {
     "data": {
      "text/plain": [
       "['EASSy is a submarine fibre optic cable system deployed along the east and south coast of Africa to service the voice.',\n",
       " 'Video and internet needs of the region, What is the main cause?']"
      ]
     },
     "execution_count": 21,
     "metadata": {},
     "output_type": "execute_result"
    }
   ],
   "source": [
    "sent"
   ]
  },
  {
   "cell_type": "code",
   "execution_count": 22,
   "id": "3f05ad74",
   "metadata": {},
   "outputs": [
    {
     "data": {
      "text/plain": [
       "list"
      ]
     },
     "execution_count": 22,
     "metadata": {},
     "output_type": "execute_result"
    }
   ],
   "source": [
    "type(sent)"
   ]
  },
  {
   "cell_type": "code",
   "execution_count": 24,
   "id": "af9deec9",
   "metadata": {},
   "outputs": [
    {
     "name": "stdout",
     "output_type": "stream",
     "text": [
      "EASSy is a submarine fibre optic cable system deployed along the east and south coast of Africa to service the voice.\n",
      "Video and internet needs of the region, What is the main cause?\n"
     ]
    }
   ],
   "source": [
    "for sentence in sent:\n",
    "    print(sentence)\n",
    "    "
   ]
  },
  {
   "cell_type": "code",
   "execution_count": 26,
   "id": "9a061618",
   "metadata": {},
   "outputs": [],
   "source": [
    "from nltk.tokenize import word_tokenize"
   ]
  },
  {
   "cell_type": "code",
   "execution_count": 27,
   "id": "aaa28470",
   "metadata": {},
   "outputs": [],
   "source": [
    "w_token=word_tokenize(corpus)"
   ]
  },
  {
   "cell_type": "code",
   "execution_count": 29,
   "id": "0dacf07e",
   "metadata": {},
   "outputs": [
    {
     "data": {
      "text/plain": [
       "['EASSy',\n",
       " 'is',\n",
       " 'a',\n",
       " 'submarine',\n",
       " 'fibre',\n",
       " 'optic',\n",
       " 'cable',\n",
       " 'system',\n",
       " 'deployed',\n",
       " 'along',\n",
       " 'the',\n",
       " 'east',\n",
       " 'and',\n",
       " 'south',\n",
       " 'coast',\n",
       " 'of',\n",
       " 'Africa',\n",
       " 'to',\n",
       " 'service',\n",
       " 'the',\n",
       " 'voice',\n",
       " '.',\n",
       " 'Video',\n",
       " 'and',\n",
       " 'internet',\n",
       " 'needs',\n",
       " 'of',\n",
       " 'the',\n",
       " 'region',\n",
       " ',',\n",
       " 'What',\n",
       " 'is',\n",
       " 'the',\n",
       " 'main',\n",
       " 'cause',\n",
       " '?']"
      ]
     },
     "execution_count": 29,
     "metadata": {},
     "output_type": "execute_result"
    }
   ],
   "source": [
    "w_token"
   ]
  },
  {
   "cell_type": "code",
   "execution_count": 30,
   "id": "529bcd6f",
   "metadata": {},
   "outputs": [
    {
     "name": "stdout",
     "output_type": "stream",
     "text": [
      "['EASSy', 'is', 'a', 'submarine', 'fibre', 'optic', 'cable', 'system', 'deployed', 'along', 'the', 'east', 'and', 'south', 'coast', 'of', 'Africa', 'to', 'service', 'the', 'voice', '.']\n",
      "['Video', 'and', 'internet', 'needs', 'of', 'the', 'region', ',', 'What', 'is', 'the', 'main', 'cause', '?']\n"
     ]
    }
   ],
   "source": [
    "for sentence in sent:\n",
    "    print(word_tokenize(sentence))"
   ]
  },
  {
   "cell_type": "code",
   "execution_count": 31,
   "id": "bc00e36a",
   "metadata": {},
   "outputs": [],
   "source": [
    "from nltk.tokenize import wordpunct_tokenize"
   ]
  },
  {
   "cell_type": "code",
   "execution_count": 33,
   "id": "c6698424",
   "metadata": {},
   "outputs": [
    {
     "data": {
      "text/plain": [
       "['EASSy',\n",
       " 'is',\n",
       " 'a',\n",
       " 'submarine',\n",
       " 'fibre',\n",
       " 'optic',\n",
       " 'cable',\n",
       " 'system',\n",
       " 'deployed',\n",
       " 'along',\n",
       " 'the',\n",
       " 'east',\n",
       " 'and',\n",
       " 'south',\n",
       " 'coast',\n",
       " 'of',\n",
       " 'Africa',\n",
       " 'to',\n",
       " 'service',\n",
       " 'the',\n",
       " 'voice',\n",
       " '.',\n",
       " 'Video',\n",
       " 'and',\n",
       " 'internet',\n",
       " 'needs',\n",
       " 'of',\n",
       " 'the',\n",
       " 'region',\n",
       " ',',\n",
       " 'What',\n",
       " 'is',\n",
       " 'the',\n",
       " 'main',\n",
       " 'cause',\n",
       " '?']"
      ]
     },
     "execution_count": 33,
     "metadata": {},
     "output_type": "execute_result"
    }
   ],
   "source": [
    "wordpunct_tokenize(corpus)"
   ]
  },
  {
   "cell_type": "code",
   "execution_count": 34,
   "id": "f832be54",
   "metadata": {},
   "outputs": [],
   "source": [
    "from nltk.tokenize import TreebankWordTokenizer"
   ]
  },
  {
   "cell_type": "code",
   "execution_count": 38,
   "id": "15b18ccc",
   "metadata": {},
   "outputs": [],
   "source": [
    "#it doest not consider fullstop(.) as a word\n",
    "Tokenizeer=TreebankWordTokenizer()"
   ]
  },
  {
   "cell_type": "code",
   "execution_count": 42,
   "id": "12a48c27",
   "metadata": {},
   "outputs": [
    {
     "data": {
      "text/plain": [
       "['EASSy',\n",
       " 'is',\n",
       " 'a',\n",
       " 'submarine',\n",
       " 'fibre',\n",
       " 'optic',\n",
       " 'cable',\n",
       " 'system',\n",
       " 'deployed',\n",
       " 'along',\n",
       " 'the',\n",
       " 'east',\n",
       " 'and',\n",
       " 'south',\n",
       " 'coast',\n",
       " 'of',\n",
       " 'Africa',\n",
       " 'to',\n",
       " 'service',\n",
       " 'the',\n",
       " 'voice.',\n",
       " 'Video',\n",
       " 'and',\n",
       " 'internet',\n",
       " 'needs',\n",
       " 'of',\n",
       " 'the',\n",
       " 'region',\n",
       " ',',\n",
       " 'What',\n",
       " 'is',\n",
       " 'the',\n",
       " 'main',\n",
       " 'cause',\n",
       " '?']"
      ]
     },
     "execution_count": 42,
     "metadata": {},
     "output_type": "execute_result"
    }
   ],
   "source": [
    "Tokenizeer.tokenize(corpus)"
   ]
  },
  {
   "cell_type": "code",
   "execution_count": null,
   "id": "c7c9fdcc",
   "metadata": {},
   "outputs": [],
   "source": []
  }
 ],
 "metadata": {
  "kernelspec": {
   "display_name": "Python 3 (ipykernel)",
   "language": "python",
   "name": "python3"
  },
  "language_info": {
   "codemirror_mode": {
    "name": "ipython",
    "version": 3
   },
   "file_extension": ".py",
   "mimetype": "text/x-python",
   "name": "python",
   "nbconvert_exporter": "python",
   "pygments_lexer": "ipython3",
   "version": "3.9.7"
  }
 },
 "nbformat": 4,
 "nbformat_minor": 5
}
